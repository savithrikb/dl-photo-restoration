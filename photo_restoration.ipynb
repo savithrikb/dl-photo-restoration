{
  "nbformat": 4,
  "nbformat_minor": 0,
  "metadata": {
    "colab": {
      "name": "photo_restoration.ipynb",
      "provenance": [],
      "collapsed_sections": [],
      "authorship_tag": "ABX9TyPee8trxW6v/Pon/bSPDLxD",
      "include_colab_link": true
    },
    "kernelspec": {
      "name": "python3",
      "display_name": "Python 3"
    }
  },
  "cells": [
    {
      "cell_type": "markdown",
      "metadata": {
        "id": "view-in-github",
        "colab_type": "text"
      },
      "source": [
        "<a href=\"https://colab.research.google.com/github/savithrikb/dl-photo-restoration/blob/master/photo_restoration.ipynb\" target=\"_parent\"><img src=\"https://colab.research.google.com/assets/colab-badge.svg\" alt=\"Open In Colab\"/></a>"
      ]
    },
    {
      "cell_type": "markdown",
      "metadata": {
        "id": "xhZk6RIrrD66",
        "colab_type": "text"
      },
      "source": [
        "**PHOTO RESTORATION USING RNN's**\n",
        "\n",
        "---\n",
        "\n",
        "\n",
        "\n",
        "In this notebook, we're going to define and train a CycleGAN to read in an image from a set  𝑋  and transform it so that it looks as if it belongs in set  𝑌 . Specifically, we'll look at a set of images that might be damaged, has lower resolution, and dull colors (older photos) as well as a set of high-quality, high-resolution images with bright colors (newer photos). "
      ]
    },
    {
      "cell_type": "markdown",
      "metadata": {
        "id": "5QxUvMlVsKiI",
        "colab_type": "text"
      },
      "source": [
        "**LOAD AND VISUALIZE THE DATA**\n",
        "\n",
        "next we have to load and visualize the training data. In order to do so we have to import certain libraries and modules."
      ]
    },
    {
      "cell_type": "code",
      "metadata": {
        "id": "islANNkfs62E",
        "colab_type": "code",
        "colab": {}
      },
      "source": [
        "import os\n",
        "import torch\n",
        "from torch.utils.data import DataLoader\n",
        "import torchvision\n",
        "import torchvision.datasets as datasets\n",
        "import torchvision.transforms as transforms\n",
        "\n",
        "# visualizing data\n",
        "import matplotlib.pyplot as plt\n",
        "import numpy as np\n",
        "import warnings\n",
        "\n",
        "%matplotlib inline"
      ],
      "execution_count": 0,
      "outputs": []
    },
    {
      "cell_type": "code",
      "metadata": {
        "id": "jKe8RrSjxuDD",
        "colab_type": "code",
        "colab": {}
      },
      "source": [
        "def get_data_loader(image_type, image_dir='Photo_restoration_ml/photos', \n",
        "                    image_size=512, batch_size=16, num_workers=0):\n",
        "    \"\"\"Returns training and test data loaders for a given image type, either 'summer' or 'winter'. \n",
        "       These images will be resized to 512x512x3, by default, converted into Tensors, and normalized.\n",
        "    \"\"\"\n",
        "    \n",
        "    # resize and normalize the images\n",
        "    transform = transforms.Compose([transforms.Resize(image_size), # resize to 128x128\n",
        "                                    transforms.ToTensor()])\n",
        "\n",
        "    # get training and test directories\n",
        "    image_path = './' + image_dir\n",
        "    train_path = os.path.join(image_path, image_type)\n",
        "    #test_path = os.path.join(image_path, 'test_{}'.format(image_type))\n",
        "\n",
        "    # define datasets using ImageFolder\n",
        "    train_dataset = datasets.ImageFolder(train_path, transform)\n",
        "    #test_dataset = datasets.ImageFolder(test_path, transform)\n",
        "\n",
        "    # create and return DataLoaders\n",
        "    train_loader = DataLoader(dataset=train_dataset, batch_size=batch_size, shuffle=True, num_workers=num_workers)\n",
        "    #test_loader = DataLoader(dataset=test_dataset, batch_size=batch_size, shuffle=False, num_workers=num_workers)\n",
        "\n",
        "    return train_loader"
      ],
      "execution_count": 0,
      "outputs": []
    },
    {
      "cell_type": "markdown",
      "metadata": {
        "id": "arIRg50u1KM0",
        "colab_type": "text"
      },
      "source": [
        "# New Section"
      ]
    },
    {
      "cell_type": "code",
      "metadata": {
        "id": "0KAVN-D34X_n",
        "colab_type": "code",
        "colab": {}
      },
      "source": [
        "dataloader_X = get_data_loader(image_type='old')\n",
        "dataloader_Y = get_data_loader(image_type='new')"
      ],
      "execution_count": 0,
      "outputs": []
    },
    {
      "cell_type": "code",
      "metadata": {
        "id": "b5CS-I2z4kLJ",
        "colab_type": "code",
        "colab": {}
      },
      "source": [
        ""
      ],
      "execution_count": 0,
      "outputs": []
    }
  ]
}